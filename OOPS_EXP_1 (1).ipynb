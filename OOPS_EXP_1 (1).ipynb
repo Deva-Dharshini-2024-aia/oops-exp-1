{
  "nbformat": 4,
  "nbformat_minor": 0,
  "metadata": {
    "colab": {
      "provenance": []
    },
    "kernelspec": {
      "name": "python3",
      "display_name": "Python 3"
    },
    "language_info": {
      "name": "python"
    }
  },
  "cells": [
    {
      "cell_type": "code",
      "metadata": {
        "colab": {
          "base_uri": "https://localhost:8080/"
        },
        "id": "d43b13ec",
        "outputId": "a69d49d4-bbc4-48c7-f549-eebd14fe3173"
      },
      "source": [
        "%%writefile College.java\n",
        "\n",
        "class Student {\n",
        "    String name;\n",
        "    int rollNumber;\n",
        "    float marks;\n",
        "\n",
        "    void setDetails(String studentName, int roll, float studentMarks) {\n",
        "        name = studentName;\n",
        "        rollNumber = roll;\n",
        "        marks = studentMarks;\n",
        "    }\n",
        "    void displayDetails() {\n",
        "        System.out.println(\" Student Name: \" + name);\n",
        "        System.out.println(\" Roll Number: \" + rollNumber);\n",
        "        System.out.println(\" Marks: \" + marks + \" out of 100\");\n",
        "        System.out.println(\"----------------------------------\");\n",
        "    }\n",
        "}\n",
        "public class College {\n",
        "    public static void main(String[] args) {\n",
        "        Student student1 = new Student();\n",
        "        Student student2 = new Student();\n",
        "\n",
        "        student1.setDetails(\"Deva Dharshini\", 101, 92.5f);\n",
        "        student2.setDetails(\"Akshaya Varuni\", 102, 87.0f);\n",
        "\n",
        "        student1.displayDetails();\n",
        "        student2.displayDetails();\n",
        "    }\n",
        "}"
      ],
      "execution_count": 4,
      "outputs": [
        {
          "output_type": "stream",
          "name": "stdout",
          "text": [
            "Writing College.java\n"
          ]
        }
      ]
    },
    {
      "cell_type": "markdown",
      "metadata": {
        "id": "41074840"
      },
      "source": [
        "Now, you can compile and run the Java code using the following commands:"
      ]
    },
    {
      "cell_type": "code",
      "metadata": {
        "colab": {
          "base_uri": "https://localhost:8080/"
        },
        "id": "a208f0f7",
        "outputId": "e07ff541-9bba-4502-ec19-fa4025181f0a"
      },
      "source": [
        "!javac College.java\n",
        "!java College"
      ],
      "execution_count": 5,
      "outputs": [
        {
          "output_type": "stream",
          "name": "stdout",
          "text": [
            " Student Name: Deva Dharshini\n",
            " Roll Number: 101\n",
            " Marks: 92.5 out of 100\n",
            "----------------------------------\n",
            " Student Name: Akshaya Varuni\n",
            " Roll Number: 102\n",
            " Marks: 87.0 out of 100\n",
            "----------------------------------\n"
          ]
        }
      ]
    }
  ]
}